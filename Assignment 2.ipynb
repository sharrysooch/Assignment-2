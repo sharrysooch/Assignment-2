{
 "cells": [
  {
   "cell_type": "raw",
   "metadata": {},
   "source": [
    "Questions 1: Create an empty list. Accept 10 numbers from the user and append to it the list if it is an even number."
   ]
  },
  {
   "cell_type": "code",
   "execution_count": 1,
   "metadata": {},
   "outputs": [
    {
     "name": "stdout",
     "output_type": "stream",
     "text": [
      "2\n",
      "3\n",
      "4\n",
      "6\n",
      "8\n",
      "1\n",
      "45\n",
      "32\n",
      "56\n",
      "78\n",
      "[2, 4, 6, 8, 32, 56, 78]\n"
     ]
    }
   ],
   "source": [
    "my_list=[]\n",
    "num=0\n",
    "while num<10:\n",
    "    number=int(input())\n",
    "    if number%2==0:\n",
    "        my_list.append(number)\n",
    "    num+=1\n",
    "print(my_list)"
   ]
  },
  {
   "cell_type": "raw",
   "metadata": {},
   "source": [
    "Question 2: Create a notebook on LIST COMPREHENSION. This exercise is to put you in a Self learning mode"
   ]
  },
  {
   "cell_type": "code",
   "execution_count": 2,
   "metadata": {},
   "outputs": [
    {
     "name": "stdout",
     "output_type": "stream",
     "text": [
      "[1, 3, 5, 7, 9, 11, 13, 15, 17, 19]\n"
     ]
    }
   ],
   "source": [
    "a=[num for num in range(0,20) if num%2!=0]\n",
    "print(a)"
   ]
  },
  {
   "cell_type": "raw",
   "metadata": {},
   "source": [
    "Question 3: You have seen in the videos how powerful dictionary data structure is. In this assignment, given a number n, you have to write a program that generates a dictionary d which contains (i, i*i), where i is from 1 to n (both included). Then you have to just print this dictionary d."
   ]
  },
  {
   "cell_type": "code",
   "execution_count": 3,
   "metadata": {},
   "outputs": [
    {
     "name": "stdout",
     "output_type": "stream",
     "text": [
      "input 6\n",
      "{1: 1, 2: 4, 3: 9, 4: 16, 5: 25, 6: 36}\n"
     ]
    }
   ],
   "source": [
    "my_dict={}\n",
    "n=int(input(\"input \"))\n",
    "for i in range(1,n+1):\n",
    "    my_dict[i]=i*i\n",
    "print(my_dict)"
   ]
  },
  {
   "cell_type": "raw",
   "metadata": {},
   "source": [
    "Quetion 4: There is a robot which wants to go the charging point to charge itself. The robot moves in a 2-D plane from the original point (0,0). The robot can move toward UP, DOWN, LEFT and RIGHT with given steps. The trace of robot movement is shown as the following: UP 5 DOWN 3 LEFT 3 RIGHT 2 Then, the output of the program should be: 2\n",
    "The numbers after the direction are steps. Write a program to compute the distance between the current position after a sequence of movement and original point. If the distance is a float, then just print the nearest integer (use round() function for that and then convert it into an integer)."
   ]
  },
  {
   "cell_type": "code",
   "execution_count": 6,
   "metadata": {},
   "outputs": [
    {
     "name": "stdout",
     "output_type": "stream",
     "text": [
      "6\n",
      "UP 3\n",
      "DOWN 6\n",
      "LEFT 5\n",
      "RIGHT 2\n",
      "UP 6\n",
      "LEFT 1\n",
      "5\n"
     ]
    }
   ],
   "source": [
    "pos = {\"x\":0,\"y\":0}\n",
    "num = int(input())\n",
    "\n",
    "for _ in range (num):\n",
    "    command =  input().split(\" \")      \n",
    "    if command[0] == \"UP\":             \n",
    "        pos[\"y\"] += int(command[1])    \n",
    "    if command[0] == \"DOWN\":\n",
    "        pos[\"y\"] -= int(command[1])\n",
    "    if command[0] == \"LEFT\":\n",
    "        pos[\"x\"] -= int(command[1])\n",
    "    if command[0] == \"RIGHT\":\n",
    "        pos[\"x\"] += int(command[1])\n",
    "\n",
    "print(int(round((pos[\"x\"]**2 + pos[\"y\"]**2)**0.5))) "
   ]
  },
  {
   "cell_type": "code",
   "execution_count": null,
   "metadata": {},
   "outputs": [],
   "source": []
  }
 ],
 "metadata": {
  "kernelspec": {
   "display_name": "Python 3",
   "language": "python",
   "name": "python3"
  },
  "language_info": {
   "codemirror_mode": {
    "name": "ipython",
    "version": 3
   },
   "file_extension": ".py",
   "mimetype": "text/x-python",
   "name": "python",
   "nbconvert_exporter": "python",
   "pygments_lexer": "ipython3",
   "version": "3.8.3"
  }
 },
 "nbformat": 4,
 "nbformat_minor": 4
}
